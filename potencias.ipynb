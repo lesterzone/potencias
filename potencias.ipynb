{
 "cells": [
  {
   "cell_type": "code",
   "execution_count": 9,
   "metadata": {},
   "outputs": [],
   "source": [
    "import math"
   ]
  },
  {
   "attachments": {},
   "cell_type": "markdown",
   "metadata": {},
   "source": [
    "----\n",
    "# Potencias\n",
    "\n",
    "----"
   ]
  },
  {
   "attachments": {},
   "cell_type": "markdown",
   "metadata": {},
   "source": [
    "## ¿Qué es una potencia?"
   ]
  },
  {
   "attachments": {},
   "cell_type": "markdown",
   "metadata": {},
   "source": [
    "La potencia es una operación matemática que representa la multiplicación repetida de un número (llamado base) consigo mismo un número determinado de veces (llamado exponente).\n",
    "\n",
    "Se denota:\n",
    "\n",
    "$a^n$\n",
    "\n",
    "Donde `a` es la base y `n` es el exponente. El resultado de elevar la base a la potencia n se conoce como el valor de la potencia.\n",
    "\n",
    "Por ejemplo, en la expresión $2^3$,\n",
    "\n",
    "- el número 2 es la base\n",
    "- 3 es el exponente.\n",
    "\n",
    "Esto significa que estamos multiplicando el número 2 por sí mismo 3 veces:\n",
    "\n",
    "$2^3 = 2 \\cdot 2 \\cdot 2 = 8$."
   ]
  },
  {
   "attachments": {},
   "cell_type": "markdown",
   "metadata": {},
   "source": [
    "## Reglas"
   ]
  },
  {
   "attachments": {},
   "cell_type": "markdown",
   "metadata": {},
   "source": [
    "### Potencia de un producto"
   ]
  },
  {
   "attachments": {},
   "cell_type": "markdown",
   "metadata": {},
   "source": [
    "Potencia de un producto: Para multiplicar dos potencias con la misma base, se suman los exponentes. \n",
    "\n",
    "Es decir,\n",
    "\n",
    "$a^m \\cdot a^n = a^{m + n}$. \n",
    "\n",
    "Por ejemplo, \n",
    "\n",
    "$2^3 \\cdot 2^2 = $\n",
    "\n",
    "$2^{3 + 2} = 2^5$\n",
    "\n",
    "$32$"
   ]
  },
  {
   "cell_type": "code",
   "execution_count": 4,
   "metadata": {},
   "outputs": [
    {
     "name": "stdout",
     "output_type": "stream",
     "text": [
      "32 32\n"
     ]
    },
    {
     "data": {
      "text/plain": [
       "True"
      ]
     },
     "execution_count": 4,
     "metadata": {},
     "output_type": "execute_result"
    }
   ],
   "source": [
    "print((2**3) * (2**2), 2**(3+2))\n",
    "(2**3) * (2**2) == 2**(3+2)\n"
   ]
  },
  {
   "attachments": {},
   "cell_type": "markdown",
   "metadata": {},
   "source": [
    "## Potencia de un cociente"
   ]
  },
  {
   "attachments": {},
   "cell_type": "markdown",
   "metadata": {},
   "source": [
    "Para dividir dos potencias con la misma base, se restan los exponentes.\n",
    "\n",
    "$\\frac{a^m}{a^n} = a^{m - n}$. \n",
    "\n",
    "Por ejemplo, \n",
    "\n",
    "$\\frac{5^4}{5^2} =$\n",
    "\n",
    "$ 5^{4 - 2} = 5^2$."
   ]
  },
  {
   "cell_type": "code",
   "execution_count": 6,
   "metadata": {},
   "outputs": [
    {
     "name": "stdout",
     "output_type": "stream",
     "text": [
      "25.0 25\n"
     ]
    },
    {
     "data": {
      "text/plain": [
       "True"
      ]
     },
     "execution_count": 6,
     "metadata": {},
     "output_type": "execute_result"
    }
   ],
   "source": [
    "print((5**4)/(5**2), (5**(4-2)))\n",
    "(5**4)/(5**2) == (5**(4-2))\n"
   ]
  },
  {
   "attachments": {},
   "cell_type": "markdown",
   "metadata": {},
   "source": [
    "## Potencia de una potencia"
   ]
  },
  {
   "attachments": {},
   "cell_type": "markdown",
   "metadata": {},
   "source": [
    "Para elevar una potencia a otra potencia, se multiplican los exponentes.\n",
    "\n",
    "$(a^m)^n = a^{m \\cdot n}$.\n",
    "\n",
    "Por ejemplo,\n",
    "\n",
    "$(3^2)^3 = $\n",
    "\n",
    "$3^{2 \\cdot 3} = 3^6$\n",
    "\n"
   ]
  },
  {
   "cell_type": "code",
   "execution_count": 8,
   "metadata": {},
   "outputs": [
    {
     "data": {
      "text/plain": [
       "True"
      ]
     },
     "execution_count": 8,
     "metadata": {},
     "output_type": "execute_result"
    }
   ],
   "source": [
    "(3**2)**3, 3**(2*3)\n",
    "(3**2)**3 == 3**(2*3)\n"
   ]
  },
  {
   "attachments": {},
   "cell_type": "markdown",
   "metadata": {},
   "source": [
    "## Potencia de una base negativa"
   ]
  },
  {
   "attachments": {},
   "cell_type": "markdown",
   "metadata": {},
   "source": [
    "Si la base de la potencia es negativa, se debe tener cuidado al usar exponentes.\n",
    "\n",
    "Ejemplo: \n",
    "\n",
    "$(-2)^3$\n",
    "\n",
    "En este caso, tenemos una base negativa (-2) elevada a un exponente positivo (3). Según la regla, cualquier número negativo elevado a un exponente impar producirá un resultado negativo. Por lo tanto:\n",
    "\n",
    "$(-2)^3 = -2 \\cdot -2 \\cdot -2 = -8$\n",
    "\n",
    "Así, el resultado de elevar la base negativa (-2) a la potencia 3 es igual a -8. Recuerda que esta regla se aplica cuando el exponente es impar. Si el exponente fuera par, el resultado sería positivo.\n",
    "\n",
    "$(-2)^2$\n",
    "\n",
    "$4$"
   ]
  },
  {
   "cell_type": "code",
   "execution_count": 10,
   "metadata": {},
   "outputs": [
    {
     "name": "stdout",
     "output_type": "stream",
     "text": [
      "-8 -8\n",
      "4 4\n"
     ]
    }
   ],
   "source": [
    "print((-2)**3, -8)\n",
    "print((-2)**2, 4)"
   ]
  },
  {
   "attachments": {},
   "cell_type": "markdown",
   "metadata": {},
   "source": [
    "## Potencia de cero"
   ]
  },
  {
   "attachments": {},
   "cell_type": "markdown",
   "metadata": {},
   "source": [
    "Cualquier número diferente de cero elevado a la potencia cero es igual a 1.\n",
    "\n",
    "$a^0 = 1$\n",
    "\n",
    "donde `a` es cualquier número distinto de cero\n",
    "\n",
    "$2^0 = 1$\n",
    "\n",
    "Existe una razón lógica y está en la regla de la potencia de un producto:\n",
    "\n",
    "$a^m \\cdot a^n = a^{m + n}$\n",
    "\n",
    "$2^1 \\cdot 2^2 = 2^{1+2}$\n",
    "\n",
    "$2 \\cdot 4 = 8$\n",
    "\n",
    "Ahora bien, si tenemos:\n",
    "\n",
    "$2^0 * 2^0 = 2^{0+0}$\n",
    "\n",
    "$2^0 * 2^0 = 2^{0}$\n",
    "\n",
    "Para que se pueda dar esta igualdad, $2^{0} = 1$\n",
    "\n",
    "$1 * 1 = 1 $"
   ]
  },
  {
   "cell_type": "code",
   "execution_count": 12,
   "metadata": {},
   "outputs": [
    {
     "name": "stdout",
     "output_type": "stream",
     "text": [
      "1\n",
      "8 8\n",
      "1 1\n"
     ]
    }
   ],
   "source": [
    "print(2**0)\n",
    "print(2**1 * 2**2, 2**(1+2))\n",
    "print(2**0 * 2**0, 2**(0+0))"
   ]
  },
  {
   "attachments": {},
   "cell_type": "markdown",
   "metadata": {},
   "source": [
    "## Potencia de uno"
   ]
  },
  {
   "attachments": {},
   "cell_type": "markdown",
   "metadata": {},
   "source": [
    "Cualquier número elevado a la potencia uno es igual a sí mismo. \n",
    "\n",
    "$a^1 = a$\n",
    "\n",
    "donde \"a\" es cualquier número\n",
    "\n",
    "$ 2^1 = 2 $"
   ]
  },
  {
   "cell_type": "code",
   "execution_count": 14,
   "metadata": {},
   "outputs": [
    {
     "data": {
      "text/plain": [
       "True"
      ]
     },
     "execution_count": 14,
     "metadata": {},
     "output_type": "execute_result"
    }
   ],
   "source": [
    "2**1 == 2"
   ]
  },
  {
   "attachments": {},
   "cell_type": "markdown",
   "metadata": {},
   "source": [
    "## Potencia de una raíz"
   ]
  },
  {
   "attachments": {},
   "cell_type": "markdown",
   "metadata": {},
   "source": [
    "Para resolver $(\\sqrt[3]{x})^4$, puedes seguir los siguientes pasos:\n",
    "\n",
    "Se aplica la regla de la potencia de una potencia: elevar el exponente exterior al exponente interior.\n",
    "\n",
    "$(\\sqrt[3]{x})^4 = \\sqrt[3]{x^4}$\n",
    "\n",
    "En este punto, se puede hacer algo más:\n",
    "\n",
    "El resultado de $(\\sqrt[3]{x})^4$ puede expresarse como $x^{\\frac{4}{3}}$. Esta es una forma válida de quitar la raíz cúbica y representar la expresión en una forma más simple."
   ]
  },
  {
   "cell_type": "code",
   "execution_count": 22,
   "metadata": {},
   "outputs": [
    {
     "data": {
      "text/plain": [
       "True"
      ]
     },
     "execution_count": 22,
     "metadata": {},
     "output_type": "execute_result"
    }
   ],
   "source": [
    "# digamos que x vale 2.\n",
    "\n",
    "((2 ** (1/3)))**4 == (2)**(4/3)"
   ]
  },
  {
   "attachments": {},
   "cell_type": "markdown",
   "metadata": {},
   "source": [
    "## Potencia de un producto elevado a un exponente"
   ]
  },
  {
   "attachments": {},
   "cell_type": "markdown",
   "metadata": {},
   "source": [
    "Si tenemos un producto elevado a un exponente, podemos distribuir ese exponente a cada factor del producto. \n",
    "\n",
    "$(ab)^n = a^n \\cdot b^n$.\n",
    "\n",
    "Por ejemplo, \n",
    "\n",
    "$(2 \\cdot 3)^4 = 2^4 \\cdot 3^4$."
   ]
  },
  {
   "cell_type": "code",
   "execution_count": 1,
   "metadata": {},
   "outputs": [
    {
     "data": {
      "text/plain": [
       "True"
      ]
     },
     "execution_count": 1,
     "metadata": {},
     "output_type": "execute_result"
    }
   ],
   "source": [
    "(2*3)**4 == (2**4) * (3**4)\n"
   ]
  },
  {
   "attachments": {},
   "cell_type": "markdown",
   "metadata": {},
   "source": [
    "##  Potencia de un cociente elevado a un exponente"
   ]
  },
  {
   "attachments": {},
   "cell_type": "markdown",
   "metadata": {},
   "source": [
    "Si tenemos un cociente elevado a un exponente, podemos distribuir ese exponente tanto al numerador como al denominador. \n",
    "\n",
    "$\\left(\\frac{a}{b}\\right)^n = \\frac{a^n}{b^n}$.\n",
    "\n",
    "Por ejemplo, \n",
    "\n",
    "$\\left(\\frac{4}{2}\\right)^3 = \\frac{4^3}{2^3}$.\n"
   ]
  },
  {
   "cell_type": "code",
   "execution_count": 3,
   "metadata": {},
   "outputs": [
    {
     "data": {
      "text/plain": [
       "True"
      ]
     },
     "execution_count": 3,
     "metadata": {},
     "output_type": "execute_result"
    }
   ],
   "source": [
    "((4/2)**3) == ((4**3)/(2**3))"
   ]
  },
  {
   "attachments": {},
   "cell_type": "markdown",
   "metadata": {},
   "source": [
    "## Potencia de una potencia elevada a un exponente"
   ]
  },
  {
   "attachments": {},
   "cell_type": "markdown",
   "metadata": {},
   "source": [
    "Si tenemos una potencia elevada a un exponente, podemos multiplicar los exponentes. \n",
    "\n",
    "$(a^m)^n = a^{m \\cdot n}$.\n",
    "\n",
    "Por ejemplo\n",
    "\n",
    "$(2^3)^2 = 2^{3 \\cdot 2} = 2^6$."
   ]
  },
  {
   "cell_type": "code",
   "execution_count": 4,
   "metadata": {},
   "outputs": [
    {
     "data": {
      "text/plain": [
       "True"
      ]
     },
     "execution_count": 4,
     "metadata": {},
     "output_type": "execute_result"
    }
   ],
   "source": [
    "((2**3)**2) == (2**(3*2))"
   ]
  },
  {
   "attachments": {},
   "cell_type": "markdown",
   "metadata": {},
   "source": [
    "## Potencia de cero elevada a un exponente"
   ]
  },
  {
   "attachments": {},
   "cell_type": "markdown",
   "metadata": {},
   "source": [
    "Cualquier número elevado a la potencia cero es igual a 1, excepto cuando la base es cero.\n",
    "\n",
    "$0^n = 0$ si $n \\neq 0$."
   ]
  },
  {
   "cell_type": "code",
   "execution_count": 6,
   "metadata": {},
   "outputs": [
    {
     "data": {
      "text/plain": [
       "True"
      ]
     },
     "execution_count": 6,
     "metadata": {},
     "output_type": "execute_result"
    }
   ],
   "source": [
    "(0**2) == 0"
   ]
  },
  {
   "attachments": {},
   "cell_type": "markdown",
   "metadata": {},
   "source": [
    "## Sobre los exponentes"
   ]
  },
  {
   "attachments": {},
   "cell_type": "markdown",
   "metadata": {},
   "source": [
    "#### Exponente negativo"
   ]
  },
  {
   "attachments": {},
   "cell_type": "markdown",
   "metadata": {},
   "source": [
    "Si tienes una potencia con exponente negativo, puedes llevarla al denominador y cambiar el signo del exponente.\n",
    "\n",
    "$a^{-n} = \\frac{1}{a^n}$. \n",
    "\n",
    "$2^{-3} = \\frac{1}{2^3} = \\frac{1}{8}$."
   ]
  },
  {
   "cell_type": "code",
   "execution_count": 7,
   "metadata": {},
   "outputs": [
    {
     "data": {
      "text/plain": [
       "True"
      ]
     },
     "execution_count": 7,
     "metadata": {},
     "output_type": "execute_result"
    }
   ],
   "source": [
    "(2**(-3)) == (1/(2**3)) == (1/8)"
   ]
  },
  {
   "attachments": {},
   "cell_type": "markdown",
   "metadata": {},
   "source": [
    "#### Exponente fraccionario"
   ]
  },
  {
   "attachments": {},
   "cell_type": "markdown",
   "metadata": {},
   "source": [
    "Si tenemos una potencia con exponente fraccionario, podemos calcularla tomando la raíz correspondiente de la base elevada al numerador del exponente.\n",
    "\n",
    "$a^{\\frac{m}{n}} = \\sqrt[n]{a^m}$. \n",
    "\n",
    "$4^{\\frac{3}{2}} = \\sqrt[2]{4^3} = \\sqrt[2]{64} = 8$."
   ]
  },
  {
   "cell_type": "code",
   "execution_count": 10,
   "metadata": {},
   "outputs": [
    {
     "data": {
      "text/plain": [
       "True"
      ]
     },
     "execution_count": 10,
     "metadata": {},
     "output_type": "execute_result"
    }
   ],
   "source": [
    "(4**(3/2)) == math.sqrt(64) == 8"
   ]
  },
  {
   "attachments": {},
   "cell_type": "markdown",
   "metadata": {},
   "source": [
    "#### Potencia de -1:"
   ]
  },
  {
   "attachments": {},
   "cell_type": "markdown",
   "metadata": {},
   "source": [
    "Cualquier número elevado a la potencia -1 es igual a su recíproco.\n",
    "\n",
    "$a^{-1} = \\frac{1}{a}$. \n",
    "\n",
    "$5^{-1} = \\frac{1}{5}$."
   ]
  },
  {
   "cell_type": "code",
   "execution_count": 12,
   "metadata": {},
   "outputs": [
    {
     "data": {
      "text/plain": [
       "True"
      ]
     },
     "execution_count": 12,
     "metadata": {},
     "output_type": "execute_result"
    }
   ],
   "source": [
    "((5)**(-1)) == (1/5)"
   ]
  },
  {
   "attachments": {},
   "cell_type": "markdown",
   "metadata": {},
   "source": [
    "## Propiedad de la potencia de base 10"
   ]
  },
  {
   "attachments": {},
   "cell_type": "markdown",
   "metadata": {},
   "source": [
    "Si necesitamos calcular una potencia de base 10, podemos utilizar la propiedad de que $10^n$ es simplemente un número seguido de `n` ceros.\n",
    "\n",
    "$10^3 = 1000$\n",
    "\n",
    "$10^6 = 1000000$\n"
   ]
  },
  {
   "cell_type": "code",
   "execution_count": 1,
   "metadata": {},
   "outputs": [
    {
     "data": {
      "text/plain": [
       "True"
      ]
     },
     "execution_count": 1,
     "metadata": {},
     "output_type": "execute_result"
    }
   ],
   "source": [
    "(10**3) == 1000\n",
    "(10**6) == 1000000"
   ]
  }
 ],
 "metadata": {
  "kernelspec": {
   "display_name": "Python 3",
   "language": "python",
   "name": "python3"
  },
  "language_info": {
   "codemirror_mode": {
    "name": "ipython",
    "version": 3
   },
   "file_extension": ".py",
   "mimetype": "text/x-python",
   "name": "python",
   "nbconvert_exporter": "python",
   "pygments_lexer": "ipython3",
   "version": "3.9.13"
  },
  "orig_nbformat": 4
 },
 "nbformat": 4,
 "nbformat_minor": 2
}
